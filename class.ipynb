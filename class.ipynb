{
 "cells": [
  {
   "cell_type": "code",
   "execution_count": null,
   "metadata": {},
   "outputs": [
    {
     "name": "stdout",
     "output_type": "stream",
     "text": [
      "2\n",
      "3\n",
      "20\n"
     ]
    }
   ],
   "source": [
    "class pekerja:\n",
    "    def __init__(self, nama, waktu_kerja, posisi):\n",
    "        self.nama = nama\n",
    "        self.waktu_kerja = waktu_kerja\n",
    "        self.posisi = posisi\n",
    "\n",
    "    def gaji(self):\n",
    "        if self.posisi == \"boss\" and self.waktu_kerja > 15:\n",
    "            return 20\n",
    "        elif self.posisi == \"boss\" and self.waktu_kerja <= 15:\n",
    "            return 18\n",
    "        elif self.posisi == \"karyawan\" and self.waktu_kerja > 10:\n",
    "            return 3\n",
    "        elif self.posisi == \"karyawan\" and self.waktu_kerja <= 10:\n",
    "            return 2\n",
    "        else:\n",
    "            return \"tidak ada gaji\"\n",
    "        \n",
    "k1 =  pekerja(\"mino\", 10, \"karyawan\")\n",
    "k2 = pekerja(\"mino2\", 15, 'karyawan')\n",
    "k3 = pekerja(\"masih mino\", 18, \"boss\")\n",
    "\n",
    "print(\"ayam\")\n",
    "print(k1.gaji())\n",
    "print(k2.gaji())\n",
    "print(k3.gaji())\n",
    "\n"
   ]
  },
  {
   "cell_type": "code",
   "execution_count": null,
   "metadata": {},
   "outputs": [],
   "source": [
    "class "
   ]
  }
 ],
 "metadata": {
  "kernelspec": {
   "display_name": "Python 3",
   "language": "python",
   "name": "python3"
  },
  "language_info": {
   "codemirror_mode": {
    "name": "ipython",
    "version": 3
   },
   "file_extension": ".py",
   "mimetype": "text/x-python",
   "name": "python",
   "nbconvert_exporter": "python",
   "pygments_lexer": "ipython3",
   "version": "3.11.2"
  }
 },
 "nbformat": 4,
 "nbformat_minor": 2
}
